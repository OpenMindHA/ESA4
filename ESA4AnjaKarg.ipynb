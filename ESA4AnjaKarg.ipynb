{
 "cells": [
  {
   "attachments": {},
   "cell_type": "markdown",
   "metadata": {},
   "source": [
    "Anja Karg | ESA 4 | DataScience"
   ]
  },
  {
   "attachments": {},
   "cell_type": "markdown",
   "metadata": {},
   "source": [
    "### 1. Write a NumPy program to get the indices of the sorted elements of a given array.\n",
    "\n",
    "### score = np.array([103, 1502, 6230, 3, 1682, 5241, 4532])"
   ]
  },
  {
   "cell_type": "code",
   "execution_count": 172,
   "metadata": {},
   "outputs": [
    {
     "name": "stdout",
     "output_type": "stream",
     "text": [
      "[ 10  52  62  16  16  54 453]\n"
     ]
    }
   ],
   "source": [
    "# pip: to install, upgrade, uninstall python packages\n",
    "# get latest pip: there is an information on terminal what to do\n",
    "# install numpy in Visual Studio code: pip install numpy\n",
    "import numpy as np # Python lib that provides multidimensional array object & tools. \n",
    "# for linear algebra, fourier transform, matrices. free.\n",
    "myArray = np.array([10,52,62,16,16,54,453])\n",
    "print(myArray)"
   ]
  },
  {
   "cell_type": "code",
   "execution_count": 173,
   "metadata": {},
   "outputs": [
    {
     "name": "stdout",
     "output_type": "stream",
     "text": [
      "[0 3 4 1 5 2 6]\n"
     ]
    }
   ],
   "source": [
    "indices = np.argsort(myArray)\n",
    "print(indices)"
   ]
  },
  {
   "attachments": {},
   "cell_type": "markdown",
   "metadata": {},
   "source": [
    "### 2a. Load the countries.csv directly via URL import into your panda data frame!"
   ]
  },
  {
   "cell_type": "code",
   "execution_count": 174,
   "metadata": {},
   "outputs": [
    {
     "name": "stdout",
     "output_type": "stream",
     "text": [
      "        Name  Population     Area     GDP Currency\n",
      "0    Germany    82521653   357385  3466.0      EUR\n",
      "1      Japan   126045000   377835  4938.0      YEN\n",
      "2     Canada    36503097  9984670  1529.0      CAD\n",
      "3      Italy    60501718   301338  1850.0      EUR\n",
      "4   Brazilia   208360000  8515770  1798.0     REAL\n",
      "5     Taiwan    23938272    36197   744.0      NTD\n",
      "6  Venezuela    28208977   912050     NaN      VED\n"
     ]
    }
   ],
   "source": [
    "import pandas as pd\n",
    "\n",
    "url = 'https://raw.githubusercontent.com/WHPAN0108/BHT-DataScience-S23/main/python-DS/country.csv'\n",
    "\n",
    "df = pd.read_csv(url)\n",
    "print(df)\n"
   ]
  },
  {
   "attachments": {},
   "cell_type": "markdown",
   "metadata": {},
   "source": [
    "### 2b. Display descriptive statistics for the numerical column (count, mean, std, min, 25%, 50%, 75%, max) HINT: describe"
   ]
  },
  {
   "cell_type": "code",
   "execution_count": 175,
   "metadata": {},
   "outputs": [
    {
     "name": "stdout",
     "output_type": "stream",
     "text": [
      "         Population          Area          GDP\n",
      "count  7.000000e+00  7.000000e+00     6.000000\n",
      "mean   8.086839e+07  2.926464e+06  2387.500000\n",
      "std    6.670195e+07  4.348507e+06  1532.497537\n",
      "min    2.393827e+07  3.619700e+04   744.000000\n",
      "25%    3.235604e+07  3.293615e+05  1596.250000\n",
      "50%    6.050172e+07  3.778350e+05  1824.000000\n",
      "75%    1.042833e+08  4.713910e+06  3062.000000\n",
      "max    2.083600e+08  9.984670e+06  4938.000000\n"
     ]
    }
   ],
   "source": [
    "print(df.describe())"
   ]
  },
  {
   "cell_type": "code",
   "execution_count": 176,
   "metadata": {},
   "outputs": [
    {
     "name": "stdout",
     "output_type": "stream",
     "text": [
      "count       6.000000\n",
      "mean     2387.500000\n",
      "std      1532.497537\n",
      "min       744.000000\n",
      "25%      1596.250000\n",
      "50%      1824.000000\n",
      "75%      3062.000000\n",
      "max      4938.000000\n",
      "Name: GDP, dtype: float64\n"
     ]
    }
   ],
   "source": [
    "# further test\n",
    "print(df['GDP'].describe())"
   ]
  },
  {
   "attachments": {},
   "cell_type": "markdown",
   "metadata": {},
   "source": [
    "### 2c. Show the last 4 rows of the DataFrame"
   ]
  },
  {
   "cell_type": "code",
   "execution_count": 177,
   "metadata": {},
   "outputs": [
    {
     "name": "stdout",
     "output_type": "stream",
     "text": [
      "        Name  Population     Area     GDP Currency\n",
      "3      Italy    60501718   301338  1850.0      EUR\n",
      "4   Brazilia   208360000  8515770  1798.0     REAL\n",
      "5     Taiwan    23938272    36197   744.0      NTD\n",
      "6  Venezuela    28208977   912050     NaN      VED\n"
     ]
    }
   ],
   "source": [
    "print(df.tail(4))"
   ]
  },
  {
   "attachments": {},
   "cell_type": "markdown",
   "metadata": {},
   "source": [
    "### 2d. Show all the rows of countries that have the EURO\n"
   ]
  },
  {
   "cell_type": "code",
   "execution_count": 178,
   "metadata": {},
   "outputs": [
    {
     "name": "stdout",
     "output_type": "stream",
     "text": [
      "      Name  Population    Area     GDP Currency\n",
      "0  Germany    82521653  357385  3466.0      EUR\n",
      "3    Italy    60501718  301338  1850.0      EUR\n"
     ]
    }
   ],
   "source": [
    "eurCountries = df[df['Currency'] == 'EUR']\n",
    "pd.set_option('display.max_rows', None)\n",
    "print(eurCountries)"
   ]
  },
  {
   "attachments": {},
   "cell_type": "markdown",
   "metadata": {},
   "source": [
    "### 2e. Show only name and Currency in a new data frame"
   ]
  },
  {
   "cell_type": "code",
   "execution_count": 179,
   "metadata": {},
   "outputs": [
    {
     "name": "stdout",
     "output_type": "stream",
     "text": [
      "        Name Currency\n",
      "0    Germany      EUR\n",
      "1      Japan      YEN\n",
      "2     Canada      CAD\n",
      "3      Italy      EUR\n",
      "4   Brazilia     REAL\n",
      "5     Taiwan      NTD\n",
      "6  Venezuela      VED\n"
     ]
    }
   ],
   "source": [
    "dfNameCoutry = (df[['Name', 'Currency']])\n",
    "print(dfNameCoutry)\n"
   ]
  },
  {
   "attachments": {},
   "cell_type": "markdown",
   "metadata": {},
   "source": [
    "### 2f. Show only the rows/countries that have more than 2000 GDP (it is in Milliarden USD Bruttoinlandsprodukt)"
   ]
  },
  {
   "cell_type": "code",
   "execution_count": 180,
   "metadata": {},
   "outputs": [
    {
     "name": "stdout",
     "output_type": "stream",
     "text": [
      "      Name  Population    Area     GDP Currency\n",
      "0  Germany    82521653  357385  3466.0      EUR\n",
      "1    Japan   126045000  377835  4938.0      YEN\n"
     ]
    }
   ],
   "source": [
    "# assuming that the GDP in the countries.csv is in US dollars\n",
    "print(df[df['GDP'] > 2000])"
   ]
  },
  {
   "attachments": {},
   "cell_type": "markdown",
   "metadata": {},
   "source": [
    "### 2g. Select all countries where with inhabitants between 50 and 150 Mio"
   ]
  },
  {
   "cell_type": "code",
   "execution_count": 181,
   "metadata": {},
   "outputs": [
    {
     "name": "stdout",
     "output_type": "stream",
     "text": [
      "      Name  Population    Area     GDP Currency\n",
      "0  Germany    82521653  357385  3466.0      EUR\n",
      "1    Japan   126045000  377835  4938.0      YEN\n",
      "3    Italy    60501718  301338  1850.0      EUR\n"
     ]
    }
   ],
   "source": [
    "print(df[(df['Population'] >= 50000000) & (df['Population'] <= 150000000)])"
   ]
  },
  {
   "attachments": {},
   "cell_type": "markdown",
   "metadata": {},
   "source": [
    "### 2h. Calculate the GDP average (ignore the missing value)"
   ]
  },
  {
   "cell_type": "code",
   "execution_count": 182,
   "metadata": {},
   "outputs": [
    {
     "name": "stdout",
     "output_type": "stream",
     "text": [
      "2387.5\n"
     ]
    }
   ],
   "source": [
    "print(df['GDP'].mean(skipna=True))"
   ]
  },
  {
   "attachments": {},
   "cell_type": "markdown",
   "metadata": {},
   "source": [
    "### 2i. Calculate the GDP average (missing value treated as 0)"
   ]
  },
  {
   "cell_type": "code",
   "execution_count": 183,
   "metadata": {},
   "outputs": [
    {
     "name": "stdout",
     "output_type": "stream",
     "text": [
      "2046.4285714285713\n"
     ]
    }
   ],
   "source": [
    "print(df['GDP'].fillna(0).mean())"
   ]
  },
  {
   "attachments": {},
   "cell_type": "markdown",
   "metadata": {},
   "source": [
    "### 2j. Calculate the population density (population/area)  of all countries and add as new column"
   ]
  },
  {
   "cell_type": "code",
   "execution_count": 184,
   "metadata": {},
   "outputs": [
    {
     "name": "stdout",
     "output_type": "stream",
     "text": [
      "        Name  Population     Area     GDP Currency  Population Density\n",
      "0    Germany    82521653   357385  3466.0      EUR          230.904075\n",
      "1      Japan   126045000   377835  4938.0      YEN          333.597999\n",
      "2     Canada    36503097  9984670  1529.0      CAD            3.655914\n",
      "3      Italy    60501718   301338  1850.0      EUR          200.776928\n",
      "4   Brazilia   208360000  8515770  1798.0     REAL           24.467547\n",
      "5     Taiwan    23938272    36197   744.0      NTD          661.333039\n",
      "6  Venezuela    28208977   912050     NaN      VED           30.929200\n"
     ]
    }
   ],
   "source": [
    "df['Population Density'] = df['Population'] / df['Area']\n",
    "print(df)"
   ]
  },
  {
   "attachments": {},
   "cell_type": "markdown",
   "metadata": {},
   "source": [
    "### 2k. Sort by country name alphabetically"
   ]
  },
  {
   "cell_type": "code",
   "execution_count": 185,
   "metadata": {},
   "outputs": [
    {
     "name": "stdout",
     "output_type": "stream",
     "text": [
      "        Name  Population     Area     GDP Currency  Population Density\n",
      "4   Brazilia   208360000  8515770  1798.0     REAL           24.467547\n",
      "2     Canada    36503097  9984670  1529.0      CAD            3.655914\n",
      "0    Germany    82521653   357385  3466.0      EUR          230.904075\n",
      "3      Italy    60501718   301338  1850.0      EUR          200.776928\n",
      "1      Japan   126045000   377835  4938.0      YEN          333.597999\n",
      "5     Taiwan    23938272    36197   744.0      NTD          661.333039\n",
      "6  Venezuela    28208977   912050     NaN      VED           30.929200\n"
     ]
    }
   ],
   "source": [
    "print(df.sort_values(by=['Name']))"
   ]
  },
  {
   "attachments": {},
   "cell_type": "markdown",
   "metadata": {},
   "source": [
    "### 2l. Create a new data frame from the original where the area is changed: all countries with > 1000000 get BIG and <= 1000000 get SMALL in the cell replaced!"
   ]
  },
  {
   "cell_type": "code",
   "execution_count": 186,
   "metadata": {},
   "outputs": [
    {
     "name": "stdout",
     "output_type": "stream",
     "text": [
      "        Name  Population   Area     GDP Currency  Population Density\n",
      "0    Germany    82521653  SMALL  3466.0      EUR          230.904075\n",
      "1      Japan   126045000  SMALL  4938.0      YEN          333.597999\n",
      "2     Canada    36503097    BIG  1529.0      CAD            3.655914\n",
      "3      Italy    60501718  SMALL  1850.0      EUR          200.776928\n",
      "4   Brazilia   208360000    BIG  1798.0     REAL           24.467547\n",
      "5     Taiwan    23938272  SMALL   744.0      NTD          661.333039\n",
      "6  Venezuela    28208977  SMALL     NaN      VED           30.929200\n"
     ]
    }
   ],
   "source": [
    "df['Area'] = df['Area'].apply(lambda x: 'BIG' if x > 1000000 else 'SMALL')\n",
    "dfCountriesBigSmall = df.copy()\n",
    "print(dfCountriesBigSmall)\n"
   ]
  }
 ],
 "metadata": {
  "kernelspec": {
   "display_name": "Python 3",
   "language": "python",
   "name": "python3"
  },
  "language_info": {
   "codemirror_mode": {
    "name": "ipython",
    "version": 3
   },
   "file_extension": ".py",
   "mimetype": "text/x-python",
   "name": "python",
   "nbconvert_exporter": "python",
   "pygments_lexer": "ipython3",
   "version": "3.11.3"
  },
  "orig_nbformat": 4
 },
 "nbformat": 4,
 "nbformat_minor": 2
}
